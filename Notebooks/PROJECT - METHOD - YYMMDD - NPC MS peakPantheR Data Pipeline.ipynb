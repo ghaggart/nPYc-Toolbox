{
 "cells": [
  {
   "cell_type": "markdown",
   "metadata": {},
   "source": [
    "# PROJECT - METHOD - YYMMDD - NPC MS peakPantheR Data Pipeline"
   ]
  },
  {
   "cell_type": "markdown",
   "metadata": {},
   "source": [
    "#### This document provides a pipeline for the import of MS data (post peak-picking), and any associated sample metadata, followed by summaries and quality control reports of the data (both in sample and feature dimensions), implementation of batch correction and feature selection and output of a final dataset ready for sharing with collaborators and data modeling. See SOP # for further details of requirements, descriptions of expected outputs and options for optimising data quality."
   ]
  },
  {
   "cell_type": "markdown",
   "metadata": {},
   "source": [
    "# 1. Initial Setup"
   ]
  },
  {
   "cell_type": "markdown",
   "metadata": {},
   "source": [
    "### Define file paths"
   ]
  },
  {
   "cell_type": "code",
   "execution_count": null,
   "metadata": {},
   "outputs": [],
   "source": [
    "toolboxPath = '/local path to npyc-toolbox/phenomecentre/npyc-toolbox'\n",
    "\n",
    "ppRdataPath = '/path to peakPantheR file/PROJECT-finalResults_peakArea.csv'\n",
    "rawDataPath = '/path to raw data/Data/'\n",
    "featureInfoPath =  '/path to peakPantheR file/PROJECT-finalResults_cpdMetadata.csv'\n",
    "\n",
    "limsFilePath = '/path to LIMS file/PROJECT dataset LIMSfile.csv'\n",
    "manifestPath = '/path to subject information file/PROJECT SubjectINFOfile.csv'\n",
    "\n",
    "saveDir = '/path to save directory/Projects/PROJECT/METHOD DATE/'"
   ]
  },
  {
   "cell_type": "markdown",
   "metadata": {},
   "source": [
    "### Import code"
   ]
  },
  {
   "cell_type": "code",
   "execution_count": null,
   "metadata": {},
   "outputs": [],
   "source": [
    "import os\n",
    "import matplotlib.pyplot as plt\n",
    "import scipy\n",
    "import pandas\n",
    "import numpy\n",
    "import pickle\n",
    "import seaborn as sns\n",
    "from plotly.offline import init_notebook_mode, iplot\n",
    "init_notebook_mode(connected=True)\n",
    "%matplotlib inline\n",
    "import sys\n",
    "import pyChemometrics\n",
    "sys.path.append(toolboxPath)\n",
    "import nPYc\n",
    "import copy\n",
    "from nPYc.enumerations import VariableType, DatasetLevel, AssayRole, SampleType\n",
    "from nPYc.utilities.normalisation import NullNormaliser, TotalAreaNormaliser, ProbabilisticQuotientNormaliser"
   ]
  },
  {
   "cell_type": "markdown",
   "metadata": {},
   "source": [
    "### Create saveDir"
   ]
  },
  {
   "cell_type": "code",
   "execution_count": null,
   "metadata": {},
   "outputs": [],
   "source": [
    "if not os.path.exists(saveDir):\n",
    "    os.makedirs(saveDir)"
   ]
  },
  {
   "cell_type": "markdown",
   "metadata": {},
   "source": [
    "# 2. Import Data & Sample Metadata"
   ]
  },
  {
   "cell_type": "markdown",
   "metadata": {},
   "source": [
    "### Import acquired data and associated acqusition parameters"
   ]
  },
  {
   "cell_type": "code",
   "execution_count": null,
   "metadata": {
    "scrolled": false
   },
   "outputs": [],
   "source": [
    "msData = nPYc.MSDataset(csvDataPath, 'csv')\n",
    "msData.sampleMetadata['Sample File Name'] = [os.path.basename(x) for x in msData.sampleMetadata['Sample File Name']]\n",
    "msData.addSampleInfo(descriptionFormat='Filenames')\n",
    "msData.addSampleInfo(descriptionFormat='Raw Data', filePath=rawDataPath)\n",
    "msData.addSampleInfo(descriptionFormat='Batches')\n",
    "msData.addFeatureInfo(featureInfoPath, featureId='cpdID')"
   ]
  },
  {
   "cell_type": "code",
   "execution_count": null,
   "metadata": {},
   "outputs": [],
   "source": [
    "# Rename if required\n",
    "msData.name = 'PROJECT-ASSAY-ppR'"
   ]
  },
  {
   "cell_type": "markdown",
   "metadata": {},
   "source": [
    "### Match acquired samples to sample IDs (LIMS file) and subject information (if available)"
   ]
  },
  {
   "cell_type": "code",
   "execution_count": null,
   "metadata": {},
   "outputs": [],
   "source": [
    "msData.addSampleInfo(descriptionFormat='NPC LIMS', filePath=limsFilePath)"
   ]
  },
  {
   "cell_type": "code",
   "execution_count": null,
   "metadata": {},
   "outputs": [],
   "source": [
    "msData.addSampleInfo(descriptionFormat='NPC Subject Info', filePath=manifestPath)"
   ]
  },
  {
   "cell_type": "markdown",
   "metadata": {},
   "source": [
    "# 3. Sample & Feature Summary Reports"
   ]
  },
  {
   "cell_type": "markdown",
   "metadata": {
    "collapsed": true
   },
   "source": [
    "### Generate sample summary report"
   ]
  },
  {
   "cell_type": "code",
   "execution_count": null,
   "metadata": {
    "scrolled": true
   },
   "outputs": [],
   "source": [
    "nPYc.reports.generateReport(msData, 'sample summary')"
   ]
  },
  {
   "cell_type": "markdown",
   "metadata": {},
   "source": [
    "### IF REQUIRED: remove samples marked for exclusion or of unknown type"
   ]
  },
  {
   "cell_type": "code",
   "execution_count": null,
   "metadata": {},
   "outputs": [],
   "source": [
    "# To exclude any samples 'Marked for Exclusion' (e.g., samples with insufficient sample volume, injection failure):\n",
    "# msData.excludeSamples(msData.sampleMetadata.iloc[msData.sampleMetadata['Skipped'].values==True]['Sample File Name'], on='Sample File Name', message='Marked for exclusion (_x)')\n",
    "\n",
    "# To exclude any samples of 'Unknown' type:\n",
    "# msData.excludeSamples(msData.sampleMetadata[pandas.isnull(msData.sampleMetadata['Sample Base Name'])]['Sample File Name'], on='Sample File Name', message='Unknown type')\n",
    "\n",
    "# Then apply masks:\n",
    "# msData.applyMasks()"
   ]
  },
  {
   "cell_type": "markdown",
   "metadata": {},
   "source": [
    "### Generate feature summary report"
   ]
  },
  {
   "cell_type": "code",
   "execution_count": null,
   "metadata": {
    "scrolled": true
   },
   "outputs": [],
   "source": [
    "nPYc.reports.generateReport(msData, 'feature summary')"
   ]
  },
  {
   "cell_type": "markdown",
   "metadata": {},
   "source": [
    "### IF REQUIRED: generate detailed correlation to dilution report"
   ]
  },
  {
   "cell_type": "markdown",
   "metadata": {},
   "source": [
    "#### If correlation to dilution figures show sub-optimal results, the following report provides more detail in order that outlying samples/SRD batch subsets can be excluded from the correlation to dilution calculation."
   ]
  },
  {
   "cell_type": "code",
   "execution_count": null,
   "metadata": {
    "scrolled": true
   },
   "outputs": [],
   "source": [
    "# nPYc.reports.generateReport(msData, 'correlation to dilution')"
   ]
  },
  {
   "cell_type": "code",
   "execution_count": null,
   "metadata": {},
   "outputs": [],
   "source": [
    "# To generate an interactive plot for determining sample names of outlying samples:\n",
    "# data = nPYc.plotting.plotTICinteractive(msData, plottype='Linearity Reference')\n",
    "# iplot(data)"
   ]
  },
  {
   "cell_type": "code",
   "execution_count": null,
   "metadata": {},
   "outputs": [],
   "source": [
    "# To exclude a complete subset of SRD samples, for example, B1LR1to46:\n",
    "# msData.corrExclusions = ['B1LR1to46']\n",
    "\n",
    "# To exclude specific samples, for example B2SRD83 and B2SRD84:\n",
    "# msData.excludeSamples(msData.sampleMetadata.iloc[msData.sampleMetadata['Sample File Name'].values=='PROJECT_METHOD_ToF_B2SRD83']['Sample File Name'], on='Sample File Name', message='Outlying TIC SRD')\n",
    "# msData.excludeSamples(msData.sampleMetadata.iloc[msData.sampleMetadata['Sample File Name'].values=='PROJECT_METHOD_ToF_B2SRD84']['Sample File Name'], on='Sample File Name', message='Outlying TIC SRD')\n",
    "\n",
    "# Then apply masks:\n",
    "# msData.applyMasks()"
   ]
  },
  {
   "cell_type": "markdown",
   "metadata": {},
   "source": [
    "# 4. Batch & Run-Order Correction"
   ]
  },
  {
   "cell_type": "markdown",
   "metadata": {},
   "source": [
    "#### The batch correction assessment report shows the TIC overall and the intensity and batch correction fit for a subset of randomly selected features, to check performance of batch correction and aid specification of additional batch start and end points or sample exclusions if required."
   ]
  },
  {
   "cell_type": "code",
   "execution_count": null,
   "metadata": {
    "scrolled": true
   },
   "outputs": [],
   "source": [
    "#nPYc.reports.generateReport(msData, 'batch correction assessment', batch_correction_window=11)"
   ]
  },
  {
   "cell_type": "markdown",
   "metadata": {},
   "source": [
    "### IF REQUIRED: amend batches/exclude sample outliers"
   ]
  },
  {
   "cell_type": "markdown",
   "metadata": {},
   "source": [
    "#### If there is a significant gap in sample aquisition, or a significant jump in intensity between adjacent samples quality of fit can be detrementally effected. In these cases, a new batch should be initialised at the first sample after the gap, or where intensity shifts. In addition, any study pool samples exhibiting an outlying TIC can also be excluded at this stage."
   ]
  },
  {
   "cell_type": "code",
   "execution_count": null,
   "metadata": {},
   "outputs": [],
   "source": [
    "# To generate an interactive plot for determining run order number of sample/s where a new batch should be started (number on second row):\n",
    "# data = nPYc.plotting.plotTICinteractive(msData, plottype='Sample Type')\n",
    "# iplot(data)"
   ]
  },
  {
   "cell_type": "code",
   "execution_count": null,
   "metadata": {},
   "outputs": [],
   "source": [
    "# To define the start of new batch, for example at run order = 316:\n",
    "# msData.amendBatches(617)"
   ]
  },
  {
   "cell_type": "code",
   "execution_count": null,
   "metadata": {},
   "outputs": [],
   "source": [
    "# To exclude specific samples, for example sample with run order 1182:\n",
    "# msData.excludeSamples([1182], on='Run Order', message='Batch termini SR')\n",
    "\n",
    "# Then apply masks:\n",
    "# msData.applyMasks()"
   ]
  },
  {
   "cell_type": "markdown",
   "metadata": {},
   "source": [
    "### Run batch correction"
   ]
  },
  {
   "cell_type": "code",
   "execution_count": null,
   "metadata": {},
   "outputs": [],
   "source": [
    "msDatacorrected = nPYc.batchAndROCorrection.correctMSdataset(msData, parallelise=True)"
   ]
  },
  {
   "cell_type": "markdown",
   "metadata": {},
   "source": [
    "### Generate batch correction summary report"
   ]
  },
  {
   "cell_type": "code",
   "execution_count": null,
   "metadata": {
    "scrolled": true
   },
   "outputs": [],
   "source": [
    "nPYc.reports.generateReport(msData, 'batch correction summary', msDataCorrected=msDatacorrected)"
   ]
  },
  {
   "cell_type": "markdown",
   "metadata": {},
   "source": [
    "### IF NO BATCH CORRECTION REQUIRED: use original dataset"
   ]
  },
  {
   "cell_type": "code",
   "execution_count": null,
   "metadata": {},
   "outputs": [],
   "source": [
    "# msDatacorrected = msData"
   ]
  },
  {
   "cell_type": "markdown",
   "metadata": {},
   "source": [
    "# 5. Feature Filtering"
   ]
  },
  {
   "cell_type": "markdown",
   "metadata": {},
   "source": [
    "#### By default features are filtered based on correlation to dilution, Residual Standard Deviation (RSD) and removal of artifactual features (highly correlated features with close RT and m/z). The feature selection report shows the number of features passing filtering with the default settings, and how this number would be altered if thresholds where changed. "
   ]
  },
  {
   "cell_type": "code",
   "execution_count": null,
   "metadata": {},
   "outputs": [],
   "source": [
    "nPYc.reports.generateReport(msDatacorrected, 'feature selection')"
   ]
  },
  {
   "cell_type": "markdown",
   "metadata": {},
   "source": [
    "### IF REQUIRED: adjust feature filtering parameter thresholds"
   ]
  },
  {
   "cell_type": "code",
   "execution_count": null,
   "metadata": {},
   "outputs": [],
   "source": [
    "# For example, to amend the RSD threshold: \n",
    "# msDatacorrected.Attributes['rsdThreshold'] = 20\n",
    "\n",
    "# For example, to amend the correlation to dilution threshold:\n",
    "# msDatacorrected.Attributes['corrThreshold'] = .8"
   ]
  },
  {
   "cell_type": "markdown",
   "metadata": {},
   "source": [
    "### Save QC Reports for Review"
   ]
  },
  {
   "cell_type": "code",
   "execution_count": null,
   "metadata": {},
   "outputs": [],
   "source": [
    "qcDir = os.path.join(saveDir, 'QC')\n",
    "if not os.path.exists(qcDir):\n",
    "    os.makedirs(qcDir)\n",
    "nPYc.reports.generateReport(msDatacorrected, 'sample summary', destinationPath=qcDir)\n",
    "nPYc.reports.generateReport(msDatacorrected, 'feature summary', withExclusions=True, destinationPath=qcDir)"
   ]
  },
  {
   "cell_type": "markdown",
   "metadata": {},
   "source": [
    "### Save featureMask to featureMetadata and export to guide review of removal of compound duplicates"
   ]
  },
  {
   "cell_type": "code",
   "execution_count": null,
   "metadata": {},
   "outputs": [],
   "source": [
    "msDatacorrected.saveFeatureMask()\n",
    "msDatacorrected.featureMetadata.to_csv(os.path.join(qcDir, 'featureMetadata_forREVIEW.csv'), encoding='utf-8')"
   ]
  },
  {
   "cell_type": "markdown",
   "metadata": {},
   "source": [
    "### Finalise features (exclude those failing; remove those duplicated within and between assays)"
   ]
  },
  {
   "cell_type": "code",
   "execution_count": null,
   "metadata": {},
   "outputs": [],
   "source": [
    "msDatacorrected.initialiseMasks()"
   ]
  },
  {
   "cell_type": "code",
   "execution_count": null,
   "metadata": {},
   "outputs": [],
   "source": [
    "# Exclude features failing review/duplicate features/IS as required\n",
    "\n",
    "print('len: ' + str(len(msDatacorrected.featureMask)) + ';  sum: ' + str(sum(msDatacorrected.featureMask)))\n",
    "\n",
    "# For example, duplicate compounds\n",
    "msDatacorrected.excludeFeatures(['LPOS-0119.1'], \n",
    "                     on='Feature Name', \n",
    "                     message='Duplicate compound exclude')\n",
    "\n",
    "# For example IS\n",
    "msDatacorrected.excludeFeatures(['IS-LPOS-08',\n",
    "                        'IS-LPOS-09',\n",
    "                        'IS-LPOS-01',\n",
    "                        'IS-LPOS-07',\n",
    "                        'IS-LPOS-02',\n",
    "                        'IS-LPOS-10',\n",
    "                        'IS-LPOS-05',\n",
    "                        'IS-LPOS-04',\n",
    "                        'IS-LPOS-06',\n",
    "                        'IS-LPOS-11',\n",
    "                        'IS-LPOS-12'], \n",
    "                     on='Feature Name', \n",
    "                     message='IS exclude')\n",
    "\n",
    "print('len: ' + str(len(msDatacorrected.featureMask)) + ';  sum: ' + str(sum(msDatacorrected.featureMask)))\n",
    "\n",
    "# Apply masks:\n",
    "msDatacorrected.applyMasks()"
   ]
  },
  {
   "cell_type": "markdown",
   "metadata": {},
   "source": [
    "### Update featureMask in featureMetadata (adds 'Passing Selection')"
   ]
  },
  {
   "cell_type": "code",
   "execution_count": null,
   "metadata": {},
   "outputs": [],
   "source": [
    "msDatacorrected.saveFeatureMask()"
   ]
  },
  {
   "cell_type": "markdown",
   "metadata": {},
   "source": [
    "# 6. Analytical Multivariate Quality Control"
   ]
  },
  {
   "cell_type": "markdown",
   "metadata": {},
   "source": [
    "### Select the samples"
   ]
  },
  {
   "cell_type": "code",
   "execution_count": null,
   "metadata": {},
   "outputs": [],
   "source": [
    "msDatacorrected.updateMasks(sampleTypes=[SampleType.StudySample, SampleType.StudyPool, SampleType.ExternalReference], filterFeatures=False)"
   ]
  },
  {
   "cell_type": "markdown",
   "metadata": {},
   "source": [
    "### Run analytical multivariate QC"
   ]
  },
  {
   "cell_type": "markdown",
   "metadata": {},
   "source": [
    "#### There are several paramters in both the PCA model generation and multivariate report that can be optimised depending on your dataset, please see documentation for details. "
   ]
  },
  {
   "cell_type": "code",
   "execution_count": null,
   "metadata": {
    "scrolled": true
   },
   "outputs": [],
   "source": [
    "# NOTE: default scaling=1 ('uv'); withExclusions=False (masks not applied)\n",
    "PCAmodelAnalytical = nPYc.multivariate.exploratoryAnalysisPCA(msDatacorrected, withExclusions=True)"
   ]
  },
  {
   "cell_type": "code",
   "execution_count": null,
   "metadata": {},
   "outputs": [],
   "source": [
    "nPYc.reports.multivariateQCreport(msDatacorrected, PCAmodelAnalytical, reportType='analytical', withExclusions=True, destinationPath=qcDir)"
   ]
  },
  {
   "cell_type": "code",
   "execution_count": null,
   "metadata": {},
   "outputs": [],
   "source": [
    "# Interactive scores plot\n",
    "\n",
    "#data = nPYc.plotting.plotScoresInteractive(msDatacorrected, PCAmodelAnalytical, 'Run Order', components=[3, 4], withExclusions=True)\n",
    "#iplot(data)"
   ]
  },
  {
   "cell_type": "code",
   "execution_count": null,
   "metadata": {},
   "outputs": [],
   "source": [
    "# Interactive loadings plot, e.g., plotting the loadings for component 2\n",
    "\n",
    "#data = nPYc.plotting.plotLoadingsInteractive(msDatacorrected, PCAmodelAnalytical, component=1, withExclusions=True)\n",
    "#iplot(data)"
   ]
  },
  {
   "cell_type": "markdown",
   "metadata": {},
   "source": [
    "# 7. Finalise & Export Dataset"
   ]
  },
  {
   "cell_type": "markdown",
   "metadata": {},
   "source": [
    "### Select the samples (default is SampleType.StudySample and SampleType.StudyPool samples only)"
   ]
  },
  {
   "cell_type": "code",
   "execution_count": null,
   "metadata": {},
   "outputs": [],
   "source": [
    "msDatacorrected.updateMasks(filterFeatures=False)"
   ]
  },
  {
   "cell_type": "markdown",
   "metadata": {},
   "source": [
    "### Generate PCA model with updated settings"
   ]
  },
  {
   "cell_type": "code",
   "execution_count": null,
   "metadata": {},
   "outputs": [],
   "source": [
    "PCAmodelAnalytical = nPYc.multivariate.exploratoryAnalysisPCA(msDatacorrected, withExclusions=True)"
   ]
  },
  {
   "cell_type": "code",
   "execution_count": null,
   "metadata": {},
   "outputs": [],
   "source": [
    "nPYc.reports.multivariateQCreport(msDatacorrected, PCAmodelAnalytical, withExclusions=True, reportType='analytical', destinationPath=qcDir)"
   ]
  },
  {
   "cell_type": "markdown",
   "metadata": {},
   "source": [
    "### IF REQUIRED: mark samples for exclusion based on multivariate QC results"
   ]
  },
  {
   "cell_type": "code",
   "execution_count": null,
   "metadata": {},
   "outputs": [],
   "source": [
    "# For example, mark outlying samples for exclusion (e.g., from interactive scores plot)\n",
    "# msData.excludeSamples(msData.sampleMetadata.iloc[msData.sampleMetadata['Sample File Name'].values=='PROJECT_METHOD_ToF_PxWx']['Sample File Name'], on='Sample File Name', message='Outlier in PCA scores')"
   ]
  },
  {
   "cell_type": "code",
   "execution_count": null,
   "metadata": {},
   "outputs": [],
   "source": [
    "# Repeat PCA modelling\n",
    "# PCAmodelAnalytical = nPYc.multivariate.exploratoryAnalysisPCA(msDatacorrected, withExclusions=True)\n",
    "# nPYc.reports.multivariateQCreport(msDatacorrected, PCAmodelAnalytical, reportType='analytical', withExclusions=True)"
   ]
  },
  {
   "cell_type": "markdown",
   "metadata": {},
   "source": [
    "### Check final dataset output if current masks applied"
   ]
  },
  {
   "cell_type": "code",
   "execution_count": null,
   "metadata": {
    "scrolled": true
   },
   "outputs": [],
   "source": [
    "nPYc.reports.generateReport(msDatacorrected, 'final report peakPantheR', withExclusions=True)"
   ]
  },
  {
   "cell_type": "markdown",
   "metadata": {},
   "source": [
    "### Apply masks"
   ]
  },
  {
   "cell_type": "code",
   "execution_count": null,
   "metadata": {},
   "outputs": [],
   "source": [
    "msData.applyMasks()"
   ]
  },
  {
   "cell_type": "markdown",
   "metadata": {},
   "source": [
    "### Export data"
   ]
  },
  {
   "cell_type": "code",
   "execution_count": null,
   "metadata": {},
   "outputs": [],
   "source": [
    "# Export final dataset\n",
    "msDatacorrected.exportDataset(destinationPath=saveDir)"
   ]
  },
  {
   "cell_type": "code",
   "execution_count": null,
   "metadata": {},
   "outputs": [],
   "source": [
    "# Export final summary report\n",
    "nPYc.reports.generateReport(msDatacorrected, 'final report peakPantheR', destinationPath=saveDir)"
   ]
  },
  {
   "cell_type": "code",
   "execution_count": null,
   "metadata": {},
   "outputs": [],
   "source": [
    "# To export combined dataset (e.g., format for SIMCA)\n",
    "msDatacorrected.exportDataset(destinationPath=saveDir, saveFormat='UnifiedCSV')"
   ]
  },
  {
   "cell_type": "markdown",
   "metadata": {},
   "source": [
    "### IF REQUIRED: change normalisation"
   ]
  },
  {
   "cell_type": "code",
   "execution_count": null,
   "metadata": {},
   "outputs": [],
   "source": [
    "# For total area normalisation\n",
    "# msDatacorrected.Normalisation = TotalAreaNormaliser()\n",
    "\n",
    "# For probabilistic quotient normalisation\n",
    "msDatacorrected.Normalisation = ProbabilisticQuotientNormaliser()"
   ]
  },
  {
   "cell_type": "markdown",
   "metadata": {},
   "source": [
    "### PCA of normalised dataset"
   ]
  },
  {
   "cell_type": "code",
   "execution_count": null,
   "metadata": {},
   "outputs": [],
   "source": [
    "PCAmodelAnalytical_normalised = nPYc.multivariate.exploratoryAnalysisPCA(msDatacorrected)"
   ]
  },
  {
   "cell_type": "code",
   "execution_count": null,
   "metadata": {},
   "outputs": [],
   "source": [
    "nPYc.reports.multivariateQCreport(msDatacorrected, PCAmodelAnalytical_normalised, reportType='analytical')"
   ]
  },
  {
   "cell_type": "markdown",
   "metadata": {},
   "source": [
    "### Export normalised data"
   ]
  },
  {
   "cell_type": "code",
   "execution_count": null,
   "metadata": {},
   "outputs": [],
   "source": [
    "normalisedDir = os.path.join(saveDir, 'Normalised data')\n",
    "if not os.path.exists(normalisedDir):\n",
    "    os.makedirs(normalisedDir)"
   ]
  },
  {
   "cell_type": "code",
   "execution_count": null,
   "metadata": {},
   "outputs": [],
   "source": [
    "msDatacorrected.exportDataset(destinationPath=normalisedDir)"
   ]
  },
  {
   "cell_type": "code",
   "execution_count": null,
   "metadata": {},
   "outputs": [],
   "source": [
    "nPYc.reports.generateReport(msDatacorrected, 'final report', pcaModel=PCAmodelAnalytical_normalised, destinationPath=normalisedDir)"
   ]
  },
  {
   "cell_type": "code",
   "execution_count": null,
   "metadata": {},
   "outputs": [],
   "source": [
    "msDatacorrected.exportDataset(destinationPath=normalisedDir, saveFormat='UnifiedCSV')"
   ]
  },
  {
   "cell_type": "markdown",
   "metadata": {},
   "source": [
    "# 8. Biological Multivariate Report"
   ]
  },
  {
   "cell_type": "code",
   "execution_count": null,
   "metadata": {},
   "outputs": [],
   "source": [
    "# Keep study samples only, but all features\n",
    "msDatacorrected.updateMasks(sampleTypes=[SampleType.StudySample], filterFeatures=False)"
   ]
  },
  {
   "cell_type": "code",
   "execution_count": null,
   "metadata": {},
   "outputs": [],
   "source": [
    "PCAmodelBiological = nPYc.multivariate.exploratoryAnalysisPCA(msDatacorrected, withExclusions=True)"
   ]
  },
  {
   "cell_type": "code",
   "execution_count": null,
   "metadata": {},
   "outputs": [],
   "source": [
    "nPYc.reports.multivariateQCreport(msDatacorrected, PCAmodelBiological, reportType='biological', withExclusions=True)"
   ]
  },
  {
   "cell_type": "code",
   "execution_count": null,
   "metadata": {},
   "outputs": [],
   "source": [
    "# Save report (NOTE: check destinationPath directory correct for whether data normalised or not)\n",
    "nPYc.reports.multivariateQCreport(msDatacorrected, PCAmodelBiological, reportType='biological', withExclusions=True, destinationPath=normalisedDir)"
   ]
  }
 ],
 "metadata": {
  "anaconda-cloud": {},
  "celltoolbar": "Raw Cell Format",
  "kernelspec": {
   "display_name": "Python 3",
   "language": "python",
   "name": "python3"
  },
  "language_info": {
   "codemirror_mode": {
    "name": "ipython",
    "version": 3
   },
   "file_extension": ".py",
   "mimetype": "text/x-python",
   "name": "python",
   "nbconvert_exporter": "python",
   "pygments_lexer": "ipython3",
   "version": "3.6.6"
  }
 },
 "nbformat": 4,
 "nbformat_minor": 1
}
